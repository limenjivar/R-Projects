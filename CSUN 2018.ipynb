{
 "cells": [
  {
   "cell_type": "markdown",
   "metadata": {},
   "source": [
    "# Water supply vs Population (LA Region)"
   ]
  },
  {
   "cell_type": "markdown",
   "metadata": {},
   "source": [
    "The datasets in this kernel where originally used for CSUN's data jam competition for the 2018 year. The population dataset was downloaded from worldpopulationreview.com and contains population, growth and growth rate data from 1970-2017. It is important to note, since population data is normally gathered every ten years then for the years 1970-2010 we do not have population data for each year in the population dataset. However, we do have population data for each successive year from 2010-2017 in the dataset. The next dataset comes from LADWP and contains data of water supply in the LA region. The total water supply has four main sources which are MWD (metropolitan water district), the LA Aqueduct, Local gwound water and recycled water.   "
   ]
  },
  {
   "cell_type": "code",
   "execution_count": 3,
   "metadata": {},
   "outputs": [
    {
     "data": {
      "text/html": [
       "'C:/Users/ledin/Desktop/R files'"
      ],
      "text/latex": [
       "'C:/Users/ledin/Desktop/R files'"
      ],
      "text/markdown": [
       "'C:/Users/ledin/Desktop/R files'"
      ],
      "text/plain": [
       "[1] \"C:/Users/ledin/Desktop/R files\""
      ]
     },
     "metadata": {},
     "output_type": "display_data"
    }
   ],
   "source": [
    "#Water supply vs. Population \n",
    "getwd()\n",
    "setwd('c:/users/ledin/Desktop/R files')\n",
    "#Population dataset (1970-2017)\n",
    "dataset = read.csv(file = 'population.csv', stringsAsFactors = TRUE, header = TRUE)\n",
    "colnames(dataset) = c('Years', 'Population', 'Growth', 'rate')"
   ]
  },
  {
   "cell_type": "code",
   "execution_count": 4,
   "metadata": {},
   "outputs": [
    {
     "data": {
      "text/html": [
       "<table>\n",
       "<thead><tr><th scope=col>Years</th><th scope=col>Population</th><th scope=col>Growth</th><th scope=col>rate</th></tr></thead>\n",
       "<tbody>\n",
       "\t<tr><td>2017     </td><td>3,999,759</td><td>18,643   </td><td>0.47%    </td></tr>\n",
       "\t<tr><td>2016     </td><td>3,981,116</td><td>27,657   </td><td>0.70%    </td></tr>\n",
       "\t<tr><td>2015     </td><td>3,953,459</td><td>30,791   </td><td>0.78%    </td></tr>\n",
       "\t<tr><td>2014     </td><td>3,922,668</td><td>30,885   </td><td>0.79%    </td></tr>\n",
       "\t<tr><td>2013     </td><td>3,891,783</td><td>32,516   </td><td>0.84%    </td></tr>\n",
       "\t<tr><td>2012     </td><td>3,859,267</td><td>34,675   </td><td>0.91%    </td></tr>\n",
       "</tbody>\n",
       "</table>\n"
      ],
      "text/latex": [
       "\\begin{tabular}{r|llll}\n",
       " Years & Population & Growth & rate\\\\\n",
       "\\hline\n",
       "\t 2017      & 3,999,759 & 18,643    & 0.47\\%  \\\\\n",
       "\t 2016      & 3,981,116 & 27,657    & 0.70\\%  \\\\\n",
       "\t 2015      & 3,953,459 & 30,791    & 0.78\\%  \\\\\n",
       "\t 2014      & 3,922,668 & 30,885    & 0.79\\%  \\\\\n",
       "\t 2013      & 3,891,783 & 32,516    & 0.84\\%  \\\\\n",
       "\t 2012      & 3,859,267 & 34,675    & 0.91\\%  \\\\\n",
       "\\end{tabular}\n"
      ],
      "text/markdown": [
       "\n",
       "Years | Population | Growth | rate | \n",
       "|---|---|---|---|---|---|\n",
       "| 2017      | 3,999,759 | 18,643    | 0.47%     | \n",
       "| 2016      | 3,981,116 | 27,657    | 0.70%     | \n",
       "| 2015      | 3,953,459 | 30,791    | 0.78%     | \n",
       "| 2014      | 3,922,668 | 30,885    | 0.79%     | \n",
       "| 2013      | 3,891,783 | 32,516    | 0.84%     | \n",
       "| 2012      | 3,859,267 | 34,675    | 0.91%     | \n",
       "\n",
       "\n"
      ],
      "text/plain": [
       "  Years Population Growth rate \n",
       "1 2017  3,999,759  18,643 0.47%\n",
       "2 2016  3,981,116  27,657 0.70%\n",
       "3 2015  3,953,459  30,791 0.78%\n",
       "4 2014  3,922,668  30,885 0.79%\n",
       "5 2013  3,891,783  32,516 0.84%\n",
       "6 2012  3,859,267  34,675 0.91%"
      ]
     },
     "metadata": {},
     "output_type": "display_data"
    }
   ],
   "source": [
    "head(dataset)"
   ]
  },
  {
   "cell_type": "code",
   "execution_count": 5,
   "metadata": {},
   "outputs": [
    {
     "data": {
      "text/html": [
       "<ol class=list-inline>\n",
       "\t<li>3999759</li>\n",
       "\t<li>3981116</li>\n",
       "\t<li>3953459</li>\n",
       "\t<li>3922668</li>\n",
       "\t<li>3891783</li>\n",
       "\t<li>3859267</li>\n",
       "\t<li>3824592</li>\n",
       "\t<li>3796060</li>\n",
       "\t<li>3694820</li>\n",
       "\t<li>3485398</li>\n",
       "\t<li>2968579</li>\n",
       "\t<li>2811801</li>\n",
       "</ol>\n"
      ],
      "text/latex": [
       "\\begin{enumerate*}\n",
       "\\item 3999759\n",
       "\\item 3981116\n",
       "\\item 3953459\n",
       "\\item 3922668\n",
       "\\item 3891783\n",
       "\\item 3859267\n",
       "\\item 3824592\n",
       "\\item 3796060\n",
       "\\item 3694820\n",
       "\\item 3485398\n",
       "\\item 2968579\n",
       "\\item 2811801\n",
       "\\end{enumerate*}\n"
      ],
      "text/markdown": [
       "1. 3999759\n",
       "2. 3981116\n",
       "3. 3953459\n",
       "4. 3922668\n",
       "5. 3891783\n",
       "6. 3859267\n",
       "7. 3824592\n",
       "8. 3796060\n",
       "9. 3694820\n",
       "10. 3485398\n",
       "11. 2968579\n",
       "12. 2811801\n",
       "\n",
       "\n"
      ],
      "text/plain": [
       " [1] 3999759 3981116 3953459 3922668 3891783 3859267 3824592 3796060 3694820\n",
       "[10] 3485398 2968579 2811801"
      ]
     },
     "metadata": {},
     "output_type": "display_data"
    },
    {
     "data": {
      "text/html": [
       "<ol class=list-inline>\n",
       "\t<li>18643</li>\n",
       "\t<li>27657</li>\n",
       "\t<li>30791</li>\n",
       "\t<li>30885</li>\n",
       "\t<li>32516</li>\n",
       "\t<li>34675</li>\n",
       "\t<li>28532</li>\n",
       "\t<li>101240</li>\n",
       "\t<li>209422</li>\n",
       "\t<li>516819</li>\n",
       "\t<li>156778</li>\n",
       "\t<li>332786</li>\n",
       "</ol>\n"
      ],
      "text/latex": [
       "\\begin{enumerate*}\n",
       "\\item 18643\n",
       "\\item 27657\n",
       "\\item 30791\n",
       "\\item 30885\n",
       "\\item 32516\n",
       "\\item 34675\n",
       "\\item 28532\n",
       "\\item 101240\n",
       "\\item 209422\n",
       "\\item 516819\n",
       "\\item 156778\n",
       "\\item 332786\n",
       "\\end{enumerate*}\n"
      ],
      "text/markdown": [
       "1. 18643\n",
       "2. 27657\n",
       "3. 30791\n",
       "4. 30885\n",
       "5. 32516\n",
       "6. 34675\n",
       "7. 28532\n",
       "8. 101240\n",
       "9. 209422\n",
       "10. 516819\n",
       "11. 156778\n",
       "12. 332786\n",
       "\n",
       "\n"
      ],
      "text/plain": [
       " [1]  18643  27657  30791  30885  32516  34675  28532 101240 209422 516819\n",
       "[11] 156778 332786"
      ]
     },
     "metadata": {},
     "output_type": "display_data"
    },
    {
     "data": {
      "text/html": [
       "<ol class=list-inline>\n",
       "\t<li>0.47</li>\n",
       "\t<li>0.7</li>\n",
       "\t<li>0.78</li>\n",
       "\t<li>0.79</li>\n",
       "\t<li>0.84</li>\n",
       "\t<li>0.91</li>\n",
       "\t<li>0.75</li>\n",
       "\t<li>0.27</li>\n",
       "\t<li>0.59</li>\n",
       "\t<li>1.62</li>\n",
       "\t<li>0.54</li>\n",
       "\t<li>1.27</li>\n",
       "</ol>\n"
      ],
      "text/latex": [
       "\\begin{enumerate*}\n",
       "\\item 0.47\n",
       "\\item 0.7\n",
       "\\item 0.78\n",
       "\\item 0.79\n",
       "\\item 0.84\n",
       "\\item 0.91\n",
       "\\item 0.75\n",
       "\\item 0.27\n",
       "\\item 0.59\n",
       "\\item 1.62\n",
       "\\item 0.54\n",
       "\\item 1.27\n",
       "\\end{enumerate*}\n"
      ],
      "text/markdown": [
       "1. 0.47\n",
       "2. 0.7\n",
       "3. 0.78\n",
       "4. 0.79\n",
       "5. 0.84\n",
       "6. 0.91\n",
       "7. 0.75\n",
       "8. 0.27\n",
       "9. 0.59\n",
       "10. 1.62\n",
       "11. 0.54\n",
       "12. 1.27\n",
       "\n",
       "\n"
      ],
      "text/plain": [
       " [1] 0.47 0.70 0.78 0.79 0.84 0.91 0.75 0.27 0.59 1.62 0.54 1.27"
      ]
     },
     "metadata": {},
     "output_type": "display_data"
    },
    {
     "data": {
      "text/html": [
       "<ol class=list-inline>\n",
       "\t<li>2017</li>\n",
       "\t<li>2016</li>\n",
       "\t<li>2015</li>\n",
       "\t<li>2014</li>\n",
       "\t<li>2013</li>\n",
       "\t<li>2012</li>\n",
       "\t<li>2011</li>\n",
       "\t<li>2010</li>\n",
       "\t<li>2000</li>\n",
       "\t<li>1990</li>\n",
       "\t<li>1980</li>\n",
       "\t<li>1970</li>\n",
       "</ol>\n",
       "\n",
       "<details>\n",
       "\t<summary style=display:list-item;cursor:pointer>\n",
       "\t\t<strong>Levels</strong>:\n",
       "\t</summary>\n",
       "\t<ol class=list-inline>\n",
       "\t\t<li>'1970'</li>\n",
       "\t\t<li>'1980'</li>\n",
       "\t\t<li>'1990'</li>\n",
       "\t\t<li>'2000'</li>\n",
       "\t\t<li>'2010'</li>\n",
       "\t\t<li>'2011'</li>\n",
       "\t\t<li>'2012'</li>\n",
       "\t\t<li>'2013'</li>\n",
       "\t\t<li>'2014'</li>\n",
       "\t\t<li>'2015'</li>\n",
       "\t\t<li>'2016'</li>\n",
       "\t\t<li>'2017'</li>\n",
       "\t</ol>\n",
       "</details>"
      ],
      "text/latex": [
       "\\begin{enumerate*}\n",
       "\\item 2017\n",
       "\\item 2016\n",
       "\\item 2015\n",
       "\\item 2014\n",
       "\\item 2013\n",
       "\\item 2012\n",
       "\\item 2011\n",
       "\\item 2010\n",
       "\\item 2000\n",
       "\\item 1990\n",
       "\\item 1980\n",
       "\\item 1970\n",
       "\\end{enumerate*}\n",
       "\n",
       "\\emph{Levels}: \\begin{enumerate*}\n",
       "\\item '1970'\n",
       "\\item '1980'\n",
       "\\item '1990'\n",
       "\\item '2000'\n",
       "\\item '2010'\n",
       "\\item '2011'\n",
       "\\item '2012'\n",
       "\\item '2013'\n",
       "\\item '2014'\n",
       "\\item '2015'\n",
       "\\item '2016'\n",
       "\\item '2017'\n",
       "\\end{enumerate*}\n"
      ],
      "text/markdown": [
       "1. 2017\n",
       "2. 2016\n",
       "3. 2015\n",
       "4. 2014\n",
       "5. 2013\n",
       "6. 2012\n",
       "7. 2011\n",
       "8. 2010\n",
       "9. 2000\n",
       "10. 1990\n",
       "11. 1980\n",
       "12. 1970\n",
       "\n",
       "\n",
       "\n",
       "**Levels**: 1. '1970'\n",
       "2. '1980'\n",
       "3. '1990'\n",
       "4. '2000'\n",
       "5. '2010'\n",
       "6. '2011'\n",
       "7. '2012'\n",
       "8. '2013'\n",
       "9. '2014'\n",
       "10. '2015'\n",
       "11. '2016'\n",
       "12. '2017'\n",
       "\n",
       "\n"
      ],
      "text/plain": [
       " [1] 2017 2016 2015 2014 2013 2012 2011 2010 2000 1990 1980 1970\n",
       "Levels: 1970 1980 1990 2000 2010 2011 2012 2013 2014 2015 2016 2017"
      ]
     },
     "metadata": {},
     "output_type": "display_data"
    }
   ],
   "source": [
    "dataset$Population <- gsub(\",\",\"\", dataset$Population)\n",
    "dataset$Population = as.numeric(dataset$Population)\n",
    "dataset$Population\n",
    "\n",
    "dataset$Growth <- gsub(\",\",\"\",dataset$Growth)\n",
    "dataset$Growth <- as.numeric(dataset$Growth)\n",
    "dataset$Growth\n",
    "\n",
    "dataset$rate <- gsub(\"%\",\"\",dataset$rate)\n",
    "dataset$rate <- as.numeric(dataset$rate)\n",
    "dataset$rate\n",
    "\n",
    "dataset$Years <- as.factor(dataset$Years)\n",
    "dataset$Years"
   ]
  },
  {
   "cell_type": "code",
   "execution_count": 6,
   "metadata": {},
   "outputs": [
    {
     "name": "stdout",
     "output_type": "stream",
     "text": [
      "'data.frame':\t12 obs. of  4 variables:\n",
      " $ Years     : Factor w/ 12 levels \"1970\",\"1980\",..: 12 11 10 9 8 7 6 5 4 3 ...\n",
      " $ Population: num  3999759 3981116 3953459 3922668 3891783 ...\n",
      " $ Growth    : num  18643 27657 30791 30885 32516 ...\n",
      " $ rate      : num  0.47 0.7 0.78 0.79 0.84 0.91 0.75 0.27 0.59 1.62 ...\n"
     ]
    },
    {
     "data": {
      "text/plain": [
       "     Years     Population          Growth            rate       \n",
       " 1970   :1   Min.   :2811801   Min.   : 18643   Min.   :0.2700  \n",
       " 1980   :1   1st Qu.:3642464   1st Qu.: 30226   1st Qu.:0.5775  \n",
       " 1990   :1   Median :3841930   Median : 33596   Median :0.7650  \n",
       " 2000   :1   Mean   :3682442   Mean   :126729   Mean   :0.7942  \n",
       " 2010   :1   3rd Qu.:3930366   3rd Qu.:169939   3rd Qu.:0.8575  \n",
       " 2011   :1   Max.   :3999759   Max.   :516819   Max.   :1.6200  \n",
       " (Other):6                                                      "
      ]
     },
     "metadata": {},
     "output_type": "display_data"
    }
   ],
   "source": [
    "str(dataset)\n",
    "summary(dataset)"
   ]
  },
  {
   "cell_type": "code",
   "execution_count": 7,
   "metadata": {},
   "outputs": [
    {
     "data": {
      "text/plain": [
       "\n",
       "Call:\n",
       "lm(formula = Population ~ Growth, data = dataset)\n",
       "\n",
       "Residuals:\n",
       "    Min      1Q  Median      3Q     Max \n",
       "-664602   14731   77469  137228  442449 \n",
       "\n",
       "Coefficients:\n",
       "              Estimate Std. Error t value Pr(>|t|)    \n",
       "(Intercept)  3.890e+06  1.201e+05  32.380 1.86e-11 ***\n",
       "Growth      -1.639e+00  6.119e-01  -2.679   0.0231 *  \n",
       "---\n",
       "Signif. codes:  0 '***' 0.001 '**' 0.01 '*' 0.05 '.' 0.1 ' ' 1\n",
       "\n",
       "Residual standard error: 317900 on 10 degrees of freedom\n",
       "Multiple R-squared:  0.4179,\tAdjusted R-squared:  0.3596 \n",
       "F-statistic: 7.178 on 1 and 10 DF,  p-value: 0.02313\n"
      ]
     },
     "metadata": {},
     "output_type": "display_data"
    }
   ],
   "source": [
    "lm.fit <- lm(Population ~ Growth, data = dataset) \n",
    "summary(lm.fit)"
   ]
  },
  {
   "cell_type": "code",
   "execution_count": 8,
   "metadata": {},
   "outputs": [
    {
     "data": {
      "text/html": [
       "<dl>\n",
       "\t<dt>$stats</dt>\n",
       "\t\t<dd><ol class=list-inline>\n",
       "\t<li>0.27</li>\n",
       "\t<li>0.565</li>\n",
       "\t<li>0.765</li>\n",
       "\t<li>0.875</li>\n",
       "\t<li>1.27</li>\n",
       "</ol>\n",
       "</dd>\n",
       "\t<dt>$n</dt>\n",
       "\t\t<dd>12</dd>\n",
       "\t<dt>$conf</dt>\n",
       "\t\t<dd><ol class=list-inline>\n",
       "\t<li>0.623606919075461</li>\n",
       "\t<li>0.906393080924539</li>\n",
       "</ol>\n",
       "</dd>\n",
       "\t<dt>$out</dt>\n",
       "\t\t<dd>1.62</dd>\n",
       "</dl>\n"
      ],
      "text/latex": [
       "\\begin{description}\n",
       "\\item[\\$stats] \\begin{enumerate*}\n",
       "\\item 0.27\n",
       "\\item 0.565\n",
       "\\item 0.765\n",
       "\\item 0.875\n",
       "\\item 1.27\n",
       "\\end{enumerate*}\n",
       "\n",
       "\\item[\\$n] 12\n",
       "\\item[\\$conf] \\begin{enumerate*}\n",
       "\\item 0.623606919075461\n",
       "\\item 0.906393080924539\n",
       "\\end{enumerate*}\n",
       "\n",
       "\\item[\\$out] 1.62\n",
       "\\end{description}\n"
      ],
      "text/markdown": [
       "$stats\n",
       ":   1. 0.27\n",
       "2. 0.565\n",
       "3. 0.765\n",
       "4. 0.875\n",
       "5. 1.27\n",
       "\n",
       "\n",
       "\n",
       "$n\n",
       ":   12\n",
       "$conf\n",
       ":   1. 0.623606919075461\n",
       "2. 0.906393080924539\n",
       "\n",
       "\n",
       "\n",
       "$out\n",
       ":   1.62\n",
       "\n",
       "\n"
      ],
      "text/plain": [
       "$stats\n",
       "[1] 0.270 0.565 0.765 0.875 1.270\n",
       "\n",
       "$n\n",
       "[1] 12\n",
       "\n",
       "$conf\n",
       "[1] 0.6236069 0.9063931\n",
       "\n",
       "$out\n",
       "[1] 1.62\n"
      ]
     },
     "metadata": {},
     "output_type": "display_data"
    },
    {
     "data": {
      "text/html": [
       "<span style=white-space:pre-wrap>'The population mean growth rate from 1970-2017 is  0.794166666666667'</span>"
      ],
      "text/latex": [
       "'The population mean growth rate from 1970-2017 is  0.794166666666667'"
      ],
      "text/markdown": [
       "<span style=white-space:pre-wrap>'The population mean growth rate from 1970-2017 is  0.794166666666667'</span>"
      ],
      "text/plain": [
       "[1] \"The population mean growth rate from 1970-2017 is  0.794166666666667\""
      ]
     },
     "metadata": {},
     "output_type": "display_data"
    },
    {
     "data": {
      "image/png": "[encoded data removed]",
      "text/plain": [
       "plot without title"
      ]
     },
     "metadata": {},
     "output_type": "display_data"
    }
   ],
   "source": [
    "boxplot(dataset$rate)\n",
    "boxplot.stats(dataset$rate)\n",
    "mean_rate <- mean(dataset$rate)\n",
    "paste('The population mean growth rate from 1970-2017 is ', mean_rate)"
   ]
  },
  {
   "cell_type": "code",
   "execution_count": 9,
   "metadata": {
    "scrolled": true
   },
   "outputs": [
    {
     "data": {},
     "metadata": {},
     "output_type": "display_data"
    },
    {
     "data": {
      "image/png": "[encoded data removed]",
      "text/plain": [
       "plot without title"
      ]
     },
     "metadata": {},
     "output_type": "display_data"
    }
   ],
   "source": [
    "library(ggplot2)\n",
    "p <- ggplot(data = dataset)\n",
    "p + geom_point(aes(x = dataset$Years, y = dataset$Population), colour = 'red') + \n",
    "  xlab('Years') + ylab('Population') +\n",
    "ggtitle(\"Population (Los Angeles 1970 - 2017)\")"
   ]
  },
  {
   "cell_type": "code",
   "execution_count": 30,
   "metadata": {},
   "outputs": [
    {
     "data": {
      "text/html": [
       "<span style=white-space:pre-wrap>'Population in 1970:  2811801'</span>"
      ],
      "text/latex": [
       "'Population in 1970:  2811801'"
      ],
      "text/markdown": [
       "<span style=white-space:pre-wrap>'Population in 1970:  2811801'</span>"
      ],
      "text/plain": [
       "[1] \"Population in 1970:  2811801\""
      ]
     },
     "metadata": {},
     "output_type": "display_data"
    },
    {
     "data": {
      "text/html": [
       "<span style=white-space:pre-wrap>'Population in 2017:  3999759'</span>"
      ],
      "text/latex": [
       "'Population in 2017:  3999759'"
      ],
      "text/markdown": [
       "<span style=white-space:pre-wrap>'Population in 2017:  3999759'</span>"
      ],
      "text/plain": [
       "[1] \"Population in 2017:  3999759\""
      ]
     },
     "metadata": {},
     "output_type": "display_data"
    }
   ],
   "source": [
    "pop_1 <- dataset$Population[12]\n",
    "pop_2 <- dataset$Population[1]\n",
    "paste(\"Population in 1970: \", pop_1)\n",
    "paste(\"Population in 2017: \", pop_2)"
   ]
  },
  {
   "cell_type": "markdown",
   "metadata": {},
   "source": [
    "The overall population in the Los Angeles region has continued to grow since 1970. Standing at about 4 million in 2017, the overall population has seen no sign of declining for the later years. "
   ]
  },
  {
   "cell_type": "code",
   "execution_count": 10,
   "metadata": {
    "scrolled": true
   },
   "outputs": [
    {
     "data": {},
     "metadata": {},
     "output_type": "display_data"
    },
    {
     "data": {
      "image/png": "[encoded data removed]",
      "text/plain": [
       "plot without title"
      ]
     },
     "metadata": {},
     "output_type": "display_data"
    }
   ],
   "source": [
    "p + geom_col(aes(x = dataset$Years, y = dataset$Growth),\n",
    "             fill = 'blue',colour = 'magenta') + \n",
    "          xlab('Years') + ylab('Population Growth') +\n",
    "            ggtitle(\"Population Growth in LA (1970-2017)\")"
   ]
  },
  {
   "cell_type": "code",
   "execution_count": 38,
   "metadata": {},
   "outputs": [
    {
     "data": {
      "text/html": [
       "'Population Growth for 2011-2017: 203699'"
      ],
      "text/latex": [
       "'Population Growth for 2011-2017: 203699'"
      ],
      "text/markdown": [
       "'Population Growth for 2011-2017: 203699'"
      ],
      "text/plain": [
       "[1] \"Population Growth for 2011-2017: 203699\""
      ]
     },
     "metadata": {},
     "output_type": "display_data"
    },
    {
     "data": {
      "text/html": [
       "'516819'"
      ],
      "text/latex": [
       "'516819'"
      ],
      "text/markdown": [
       "'516819'"
      ],
      "text/plain": [
       "[1] \"516819\""
      ]
     },
     "metadata": {},
     "output_type": "display_data"
    }
   ],
   "source": [
    "pop_g = dataset$Growth[1]+dataset$Growth[2]+dataset$Growth[3]+dataset$Growth[4]+dataset$Growth[5]+dataset$Growth[6]+dataset$Growth[7]\n",
    "paste(\"Population Growth for 2011-2017:\", pop_g)"
   ]
  },
  {
   "cell_type": "code",
   "execution_count": 11,
   "metadata": {
    "scrolled": true
   },
   "outputs": [
    {
     "data": {
      "text/html": [
       "<table>\n",
       "<thead><tr><th scope=col>ï..Date.Value</th><th scope=col>Fiscal.Year</th><th scope=col>MWD</th><th scope=col>LA.Aqueduct</th><th scope=col>Local.Groundwater</th><th scope=col>Recycled.Water</th><th scope=col>Total.Acre.Feet</th><th scope=col>MWD...of.Total</th><th scope=col>LA.Aqueduct...of.Total</th><th scope=col>Local.Groundwater...of.Total</th><th scope=col>Recycled.Water...of.Total</th></tr></thead>\n",
       "<tbody>\n",
       "\t<tr><td>06/30/1970 12:00:00 AM</td><td>1969-70               </td><td>146,981               </td><td>355,422               </td><td>83,627                </td><td>0                     </td><td>586,030               </td><td>25.1%                 </td><td>60.6%                 </td><td>14.3%                 </td><td>0%                    </td></tr>\n",
       "\t<tr><td>06/30/1971 12:00:00 AM</td><td>1970-71               </td><td>52,194                </td><td>454,160               </td><td>73,847                </td><td>0                     </td><td>580,201               </td><td>9%                    </td><td>78.3%                 </td><td>12.7%                 </td><td>0%                    </td></tr>\n",
       "\t<tr><td>06/30/1972 12:00:00 AM</td><td>1971-72               </td><td>59,852                </td><td>469,185               </td><td>75,033                </td><td>0                     </td><td>604,070               </td><td>9.9%                  </td><td>77.7%                 </td><td>12.4%                 </td><td>0%                    </td></tr>\n",
       "\t<tr><td>06/30/1973 12:00:00 AM</td><td>1972-73               </td><td>32,766                </td><td>458,726               </td><td>79,726                </td><td>0                     </td><td>571,218               </td><td>5.7%                  </td><td>80.3%                 </td><td>14%                   </td><td>0%                    </td></tr>\n",
       "\t<tr><td>06/30/1974 12:00:00 AM</td><td>1973-74               </td><td>25,525                </td><td>460,942               </td><td>76,517                </td><td>0                     </td><td>562,984               </td><td>4.5%                  </td><td>81.9%                 </td><td>13.6%                 </td><td>0%                    </td></tr>\n",
       "\t<tr><td>06/30/1975 12:00:00 AM</td><td>1974-75               </td><td>32,611                </td><td>459,655               </td><td>76,253                </td><td>0                     </td><td>568,519               </td><td>5.7%                  </td><td>80.9%                 </td><td>13.4%                 </td><td>0%                    </td></tr>\n",
       "</tbody>\n",
       "</table>\n"
      ],
      "text/latex": [
       "\\begin{tabular}{r|lllllllllll}\n",
       " ï..Date.Value & Fiscal.Year & MWD & LA.Aqueduct & Local.Groundwater & Recycled.Water & Total.Acre.Feet & MWD...of.Total & LA.Aqueduct...of.Total & Local.Groundwater...of.Total & Recycled.Water...of.Total\\\\\n",
       "\\hline\n",
       "\t 06/30/1970 12:00:00 AM & 1969-70                & 146,981                & 355,422                & 83,627                 & 0                      & 586,030                & 25.1\\%                & 60.6\\%                & 14.3\\%                & 0\\%                  \\\\\n",
       "\t 06/30/1971 12:00:00 AM & 1970-71                & 52,194                 & 454,160                & 73,847                 & 0                      & 580,201                & 9\\%                   & 78.3\\%                & 12.7\\%                & 0\\%                  \\\\\n",
       "\t 06/30/1972 12:00:00 AM & 1971-72                & 59,852                 & 469,185                & 75,033                 & 0                      & 604,070                & 9.9\\%                 & 77.7\\%                & 12.4\\%                & 0\\%                  \\\\\n",
       "\t 06/30/1973 12:00:00 AM & 1972-73                & 32,766                 & 458,726                & 79,726                 & 0                      & 571,218                & 5.7\\%                 & 80.3\\%                & 14\\%                  & 0\\%                  \\\\\n",
       "\t 06/30/1974 12:00:00 AM & 1973-74                & 25,525                 & 460,942                & 76,517                 & 0                      & 562,984                & 4.5\\%                 & 81.9\\%                & 13.6\\%                & 0\\%                  \\\\\n",
       "\t 06/30/1975 12:00:00 AM & 1974-75                & 32,611                 & 459,655                & 76,253                 & 0                      & 568,519                & 5.7\\%                 & 80.9\\%                & 13.4\\%                & 0\\%                  \\\\\n",
       "\\end{tabular}\n"
      ],
      "text/markdown": [
       "\n",
       "ï..Date.Value | Fiscal.Year | MWD | LA.Aqueduct | Local.Groundwater | Recycled.Water | Total.Acre.Feet | MWD...of.Total | LA.Aqueduct...of.Total | Local.Groundwater...of.Total | Recycled.Water...of.Total | \n",
       "|---|---|---|---|---|---|\n",
       "| 06/30/1970 12:00:00 AM | 1969-70                | 146,981                | 355,422                | 83,627                 | 0                      | 586,030                | 25.1%                  | 60.6%                  | 14.3%                  | 0%                     | \n",
       "| 06/30/1971 12:00:00 AM | 1970-71                | 52,194                 | 454,160                | 73,847                 | 0                      | 580,201                | 9%                     | 78.3%                  | 12.7%                  | 0%                     | \n",
       "| 06/30/1972 12:00:00 AM | 1971-72                | 59,852                 | 469,185                | 75,033                 | 0                      | 604,070                | 9.9%                   | 77.7%                  | 12.4%                  | 0%                     | \n",
       "| 06/30/1973 12:00:00 AM | 1972-73                | 32,766                 | 458,726                | 79,726                 | 0                      | 571,218                | 5.7%                   | 80.3%                  | 14%                    | 0%                     | \n",
       "| 06/30/1974 12:00:00 AM | 1973-74                | 25,525                 | 460,942                | 76,517                 | 0                      | 562,984                | 4.5%                   | 81.9%                  | 13.6%                  | 0%                     | \n",
       "| 06/30/1975 12:00:00 AM | 1974-75                | 32,611                 | 459,655                | 76,253                 | 0                      | 568,519                | 5.7%                   | 80.9%                  | 13.4%                  | 0%                     | \n",
       "\n",
       "\n"
      ],
      "text/plain": [
       "  ï..Date.Value          Fiscal.Year MWD     LA.Aqueduct Local.Groundwater\n",
       "1 06/30/1970 12:00:00 AM 1969-70     146,981 355,422     83,627           \n",
       "2 06/30/1971 12:00:00 AM 1970-71     52,194  454,160     73,847           \n",
       "3 06/30/1972 12:00:00 AM 1971-72     59,852  469,185     75,033           \n",
       "4 06/30/1973 12:00:00 AM 1972-73     32,766  458,726     79,726           \n",
       "5 06/30/1974 12:00:00 AM 1973-74     25,525  460,942     76,517           \n",
       "6 06/30/1975 12:00:00 AM 1974-75     32,611  459,655     76,253           \n",
       "  Recycled.Water Total.Acre.Feet MWD...of.Total LA.Aqueduct...of.Total\n",
       "1 0              586,030         25.1%          60.6%                 \n",
       "2 0              580,201         9%             78.3%                 \n",
       "3 0              604,070         9.9%           77.7%                 \n",
       "4 0              571,218         5.7%           80.3%                 \n",
       "5 0              562,984         4.5%           81.9%                 \n",
       "6 0              568,519         5.7%           80.9%                 \n",
       "  Local.Groundwater...of.Total Recycled.Water...of.Total\n",
       "1 14.3%                        0%                       \n",
       "2 12.7%                        0%                       \n",
       "3 12.4%                        0%                       \n",
       "4 14%                          0%                       \n",
       "5 13.6%                        0%                       \n",
       "6 13.4%                        0%                       "
      ]
     },
     "metadata": {},
     "output_type": "display_data"
    }
   ],
   "source": [
    "#Water Supply\n",
    "supply <- read.csv('LADWP_Water_Supply_in_Acre_Feet.csv')\n",
    "head(supply)"
   ]
  },
  {
   "cell_type": "code",
   "execution_count": 12,
   "metadata": {},
   "outputs": [
    {
     "data": {
      "text/html": [
       "<table>\n",
       "<thead><tr><th scope=col>Date</th><th scope=col>Year</th><th scope=col>MWD</th><th scope=col>Aqueduct</th><th scope=col>GroundWater</th><th scope=col>RecycledWater</th><th scope=col>TotalSupply</th><th scope=col>MWD_Per</th><th scope=col>Aqueduct_Per</th><th scope=col>Ground_Per</th><th scope=col>Recycled_Per</th></tr></thead>\n",
       "<tbody>\n",
       "\t<tr><td>06/30/1970 12:00:00 AM</td><td>1969-70               </td><td>146,981               </td><td>355,422               </td><td>83,627                </td><td>0                     </td><td>586,030               </td><td>25.1%                 </td><td>60.6%                 </td><td>14.3%                 </td><td>0%                    </td></tr>\n",
       "\t<tr><td>06/30/1971 12:00:00 AM</td><td>1970-71               </td><td>52,194                </td><td>454,160               </td><td>73,847                </td><td>0                     </td><td>580,201               </td><td>9%                    </td><td>78.3%                 </td><td>12.7%                 </td><td>0%                    </td></tr>\n",
       "\t<tr><td>06/30/1972 12:00:00 AM</td><td>1971-72               </td><td>59,852                </td><td>469,185               </td><td>75,033                </td><td>0                     </td><td>604,070               </td><td>9.9%                  </td><td>77.7%                 </td><td>12.4%                 </td><td>0%                    </td></tr>\n",
       "\t<tr><td>06/30/1973 12:00:00 AM</td><td>1972-73               </td><td>32,766                </td><td>458,726               </td><td>79,726                </td><td>0                     </td><td>571,218               </td><td>5.7%                  </td><td>80.3%                 </td><td>14%                   </td><td>0%                    </td></tr>\n",
       "\t<tr><td>06/30/1974 12:00:00 AM</td><td>1973-74               </td><td>25,525                </td><td>460,942               </td><td>76,517                </td><td>0                     </td><td>562,984               </td><td>4.5%                  </td><td>81.9%                 </td><td>13.6%                 </td><td>0%                    </td></tr>\n",
       "\t<tr><td>06/30/1975 12:00:00 AM</td><td>1974-75               </td><td>32,611                </td><td>459,655               </td><td>76,253                </td><td>0                     </td><td>568,519               </td><td>5.7%                  </td><td>80.9%                 </td><td>13.4%                 </td><td>0%                    </td></tr>\n",
       "</tbody>\n",
       "</table>\n"
      ],
      "text/latex": [
       "\\begin{tabular}{r|lllllllllll}\n",
       " Date & Year & MWD & Aqueduct & GroundWater & RecycledWater & TotalSupply & MWD\\_Per & Aqueduct\\_Per & Ground\\_Per & Recycled\\_Per\\\\\n",
       "\\hline\n",
       "\t 06/30/1970 12:00:00 AM & 1969-70                & 146,981                & 355,422                & 83,627                 & 0                      & 586,030                & 25.1\\%                & 60.6\\%                & 14.3\\%                & 0\\%                  \\\\\n",
       "\t 06/30/1971 12:00:00 AM & 1970-71                & 52,194                 & 454,160                & 73,847                 & 0                      & 580,201                & 9\\%                   & 78.3\\%                & 12.7\\%                & 0\\%                  \\\\\n",
       "\t 06/30/1972 12:00:00 AM & 1971-72                & 59,852                 & 469,185                & 75,033                 & 0                      & 604,070                & 9.9\\%                 & 77.7\\%                & 12.4\\%                & 0\\%                  \\\\\n",
       "\t 06/30/1973 12:00:00 AM & 1972-73                & 32,766                 & 458,726                & 79,726                 & 0                      & 571,218                & 5.7\\%                 & 80.3\\%                & 14\\%                  & 0\\%                  \\\\\n",
       "\t 06/30/1974 12:00:00 AM & 1973-74                & 25,525                 & 460,942                & 76,517                 & 0                      & 562,984                & 4.5\\%                 & 81.9\\%                & 13.6\\%                & 0\\%                  \\\\\n",
       "\t 06/30/1975 12:00:00 AM & 1974-75                & 32,611                 & 459,655                & 76,253                 & 0                      & 568,519                & 5.7\\%                 & 80.9\\%                & 13.4\\%                & 0\\%                  \\\\\n",
       "\\end{tabular}\n"
      ],
      "text/markdown": [
       "\n",
       "Date | Year | MWD | Aqueduct | GroundWater | RecycledWater | TotalSupply | MWD_Per | Aqueduct_Per | Ground_Per | Recycled_Per | \n",
       "|---|---|---|---|---|---|\n",
       "| 06/30/1970 12:00:00 AM | 1969-70                | 146,981                | 355,422                | 83,627                 | 0                      | 586,030                | 25.1%                  | 60.6%                  | 14.3%                  | 0%                     | \n",
       "| 06/30/1971 12:00:00 AM | 1970-71                | 52,194                 | 454,160                | 73,847                 | 0                      | 580,201                | 9%                     | 78.3%                  | 12.7%                  | 0%                     | \n",
       "| 06/30/1972 12:00:00 AM | 1971-72                | 59,852                 | 469,185                | 75,033                 | 0                      | 604,070                | 9.9%                   | 77.7%                  | 12.4%                  | 0%                     | \n",
       "| 06/30/1973 12:00:00 AM | 1972-73                | 32,766                 | 458,726                | 79,726                 | 0                      | 571,218                | 5.7%                   | 80.3%                  | 14%                    | 0%                     | \n",
       "| 06/30/1974 12:00:00 AM | 1973-74                | 25,525                 | 460,942                | 76,517                 | 0                      | 562,984                | 4.5%                   | 81.9%                  | 13.6%                  | 0%                     | \n",
       "| 06/30/1975 12:00:00 AM | 1974-75                | 32,611                 | 459,655                | 76,253                 | 0                      | 568,519                | 5.7%                   | 80.9%                  | 13.4%                  | 0%                     | \n",
       "\n",
       "\n"
      ],
      "text/plain": [
       "  Date                   Year    MWD     Aqueduct GroundWater RecycledWater\n",
       "1 06/30/1970 12:00:00 AM 1969-70 146,981 355,422  83,627      0            \n",
       "2 06/30/1971 12:00:00 AM 1970-71 52,194  454,160  73,847      0            \n",
       "3 06/30/1972 12:00:00 AM 1971-72 59,852  469,185  75,033      0            \n",
       "4 06/30/1973 12:00:00 AM 1972-73 32,766  458,726  79,726      0            \n",
       "5 06/30/1974 12:00:00 AM 1973-74 25,525  460,942  76,517      0            \n",
       "6 06/30/1975 12:00:00 AM 1974-75 32,611  459,655  76,253      0            \n",
       "  TotalSupply MWD_Per Aqueduct_Per Ground_Per Recycled_Per\n",
       "1 586,030     25.1%   60.6%        14.3%      0%          \n",
       "2 580,201     9%      78.3%        12.7%      0%          \n",
       "3 604,070     9.9%    77.7%        12.4%      0%          \n",
       "4 571,218     5.7%    80.3%        14%        0%          \n",
       "5 562,984     4.5%    81.9%        13.6%      0%          \n",
       "6 568,519     5.7%    80.9%        13.4%      0%          "
      ]
     },
     "metadata": {},
     "output_type": "display_data"
    }
   ],
   "source": [
    "colnames(supply) <- c('Date','Year','MWD','Aqueduct','GroundWater','RecycledWater',\n",
    "                      'TotalSupply','MWD_Per','Aqueduct_Per','Ground_Per','Recycled_Per')\n",
    "head(supply)"
   ]
  },
  {
   "cell_type": "code",
   "execution_count": 13,
   "metadata": {},
   "outputs": [
    {
     "data": {
      "text/html": [
       "<table>\n",
       "<thead><tr><th></th><th scope=col>Date</th><th scope=col>Year</th><th scope=col>MWD</th><th scope=col>Aqueduct</th><th scope=col>GroundWater</th><th scope=col>RecycledWater</th><th scope=col>TotalSupply</th><th scope=col>MWD_Per</th><th scope=col>Aqueduct_Per</th><th scope=col>Ground_Per</th><th scope=col>Recycled_Per</th></tr></thead>\n",
       "<tbody>\n",
       "\t<tr><th scope=row>43</th><td>06/30/2013 12:00:00 AM</td><td>2012-13               </td><td>388,402               </td><td>113,411               </td><td>57,246                </td><td>7,513                 </td><td>566,572               </td><td>68.6%                 </td><td>20%                   </td><td>10.1%                 </td><td>1.3%                  </td></tr>\n",
       "\t<tr><th scope=row>44</th><td>06/30/2015 12:00:00 AM</td><td>2014-15               </td><td>362,607               </td><td>57,535                </td><td>90,438                </td><td>10,421                </td><td>521,001               </td><td>69.6%                 </td><td>11%                   </td><td>17.4%                 </td><td>2%                    </td></tr>\n",
       "\t<tr><th scope=row>45</th><td>06/30/2016 12:00:00 AM</td><td>2015-16               </td><td>339,906               </td><td>57,859                </td><td>79,056                </td><td>9,913                 </td><td>486,734               </td><td>69.8%                 </td><td>11.9%                 </td><td>16.2%                 </td><td>2%                    </td></tr>\n",
       "\t<tr><th scope=row>46</th><td>06/30/2014 12:00:00 AM</td><td>2013-14               </td><td>441,871               </td><td>61,024                </td><td>79,403                </td><td>10,054                </td><td>592,352               </td><td>75%                   </td><td>10%                   </td><td>13%                   </td><td>2%                    </td></tr>\n",
       "\t<tr><th scope=row>47</th><td>06/30/1989 12:00:00 AM</td><td>1988-89               </td><td>230,149               </td><td>327,181               </td><td>136,376               </td><td>0                     </td><td>693,706               </td><td>33.2%                 </td><td>47.2%                 </td><td>19.7%                 </td><td>0%                    </td></tr>\n",
       "\t<tr><th scope=row>48</th><td>06/30/2017 12:00:00 AM</td><td>2016-17               </td><td>219,727               </td><td>212,607               </td><td>51,240                </td><td>8,030                 </td><td>491,604               </td><td>45%                   </td><td>43%                   </td><td>10%                   </td><td>2%                    </td></tr>\n",
       "</tbody>\n",
       "</table>\n"
      ],
      "text/latex": [
       "\\begin{tabular}{r|lllllllllll}\n",
       "  & Date & Year & MWD & Aqueduct & GroundWater & RecycledWater & TotalSupply & MWD\\_Per & Aqueduct\\_Per & Ground\\_Per & Recycled\\_Per\\\\\n",
       "\\hline\n",
       "\t43 & 06/30/2013 12:00:00 AM & 2012-13                & 388,402                & 113,411                & 57,246                 & 7,513                  & 566,572                & 68.6\\%                & 20\\%                  & 10.1\\%                & 1.3\\%                \\\\\n",
       "\t44 & 06/30/2015 12:00:00 AM & 2014-15                & 362,607                & 57,535                 & 90,438                 & 10,421                 & 521,001                & 69.6\\%                & 11\\%                  & 17.4\\%                & 2\\%                  \\\\\n",
       "\t45 & 06/30/2016 12:00:00 AM & 2015-16                & 339,906                & 57,859                 & 79,056                 & 9,913                  & 486,734                & 69.8\\%                & 11.9\\%                & 16.2\\%                & 2\\%                  \\\\\n",
       "\t46 & 06/30/2014 12:00:00 AM & 2013-14                & 441,871                & 61,024                 & 79,403                 & 10,054                 & 592,352                & 75\\%                  & 10\\%                  & 13\\%                  & 2\\%                  \\\\\n",
       "\t47 & 06/30/1989 12:00:00 AM & 1988-89                & 230,149                & 327,181                & 136,376                & 0                      & 693,706                & 33.2\\%                & 47.2\\%                & 19.7\\%                & 0\\%                  \\\\\n",
       "\t48 & 06/30/2017 12:00:00 AM & 2016-17                & 219,727                & 212,607                & 51,240                 & 8,030                  & 491,604                & 45\\%                  & 43\\%                  & 10\\%                  & 2\\%                  \\\\\n",
       "\\end{tabular}\n"
      ],
      "text/markdown": [
       "\n",
       "| <!--/--> | Date | Year | MWD | Aqueduct | GroundWater | RecycledWater | TotalSupply | MWD_Per | Aqueduct_Per | Ground_Per | Recycled_Per | \n",
       "|---|---|---|---|---|---|\n",
       "| 43 | 06/30/2013 12:00:00 AM | 2012-13                | 388,402                | 113,411                | 57,246                 | 7,513                  | 566,572                | 68.6%                  | 20%                    | 10.1%                  | 1.3%                   | \n",
       "| 44 | 06/30/2015 12:00:00 AM | 2014-15                | 362,607                | 57,535                 | 90,438                 | 10,421                 | 521,001                | 69.6%                  | 11%                    | 17.4%                  | 2%                     | \n",
       "| 45 | 06/30/2016 12:00:00 AM | 2015-16                | 339,906                | 57,859                 | 79,056                 | 9,913                  | 486,734                | 69.8%                  | 11.9%                  | 16.2%                  | 2%                     | \n",
       "| 46 | 06/30/2014 12:00:00 AM | 2013-14                | 441,871                | 61,024                 | 79,403                 | 10,054                 | 592,352                | 75%                    | 10%                    | 13%                    | 2%                     | \n",
       "| 47 | 06/30/1989 12:00:00 AM | 1988-89                | 230,149                | 327,181                | 136,376                | 0                      | 693,706                | 33.2%                  | 47.2%                  | 19.7%                  | 0%                     | \n",
       "| 48 | 06/30/2017 12:00:00 AM | 2016-17                | 219,727                | 212,607                | 51,240                 | 8,030                  | 491,604                | 45%                    | 43%                    | 10%                    | 2%                     | \n",
       "\n",
       "\n"
      ],
      "text/plain": [
       "   Date                   Year    MWD     Aqueduct GroundWater RecycledWater\n",
       "43 06/30/2013 12:00:00 AM 2012-13 388,402 113,411  57,246      7,513        \n",
       "44 06/30/2015 12:00:00 AM 2014-15 362,607 57,535   90,438      10,421       \n",
       "45 06/30/2016 12:00:00 AM 2015-16 339,906 57,859   79,056      9,913        \n",
       "46 06/30/2014 12:00:00 AM 2013-14 441,871 61,024   79,403      10,054       \n",
       "47 06/30/1989 12:00:00 AM 1988-89 230,149 327,181  136,376     0            \n",
       "48 06/30/2017 12:00:00 AM 2016-17 219,727 212,607  51,240      8,030        \n",
       "   TotalSupply MWD_Per Aqueduct_Per Ground_Per Recycled_Per\n",
       "43 566,572     68.6%   20%          10.1%      1.3%        \n",
       "44 521,001     69.6%   11%          17.4%      2%          \n",
       "45 486,734     69.8%   11.9%        16.2%      2%          \n",
       "46 592,352     75%     10%          13%        2%          \n",
       "47 693,706     33.2%   47.2%        19.7%      0%          \n",
       "48 491,604     45%     43%          10%        2%          "
      ]
     },
     "metadata": {},
     "output_type": "display_data"
    }
   ],
   "source": [
    "tail(supply)"
   ]
  },
  {
   "cell_type": "code",
   "execution_count": 14,
   "metadata": {},
   "outputs": [
    {
     "data": {
      "text/html": [
       "<table>\n",
       "<thead><tr><th></th><th scope=col>Date</th><th scope=col>Year</th><th scope=col>MWD</th><th scope=col>Aqueduct</th><th scope=col>GroundWater</th><th scope=col>RecycledWater</th><th scope=col>TotalSupply</th><th scope=col>MWD_Per</th><th scope=col>Aqueduct_Per</th><th scope=col>Ground_Per</th><th scope=col>Recycled_Per</th></tr></thead>\n",
       "<tbody>\n",
       "\t<tr><th scope=row>42</th><td>06/30/2012 12:00:00 AM</td><td>2011-12               </td><td>209,746               </td><td>266,634               </td><td>61,060                </td><td>6,850                 </td><td>544,290               </td><td>38.5%                 </td><td>49%                   </td><td>11.2%                 </td><td>1.3%                  </td></tr>\n",
       "\t<tr><th scope=row>43</th><td>06/30/2013 12:00:00 AM</td><td>2012-13               </td><td>388,402               </td><td>113,411               </td><td>57,246                </td><td>7,513                 </td><td>566,572               </td><td>68.6%                 </td><td>20%                   </td><td>10.1%                 </td><td>1.3%                  </td></tr>\n",
       "\t<tr><th scope=row>46</th><td>06/30/2014 12:00:00 AM</td><td>2013-14               </td><td>441,871               </td><td>61,024                </td><td>79,403                </td><td>10,054                </td><td>592,352               </td><td>75%                   </td><td>10%                   </td><td>13%                   </td><td>2%                    </td></tr>\n",
       "\t<tr><th scope=row>44</th><td>06/30/2015 12:00:00 AM</td><td>2014-15               </td><td>362,607               </td><td>57,535                </td><td>90,438                </td><td>10,421                </td><td>521,001               </td><td>69.6%                 </td><td>11%                   </td><td>17.4%                 </td><td>2%                    </td></tr>\n",
       "\t<tr><th scope=row>45</th><td>06/30/2016 12:00:00 AM</td><td>2015-16               </td><td>339,906               </td><td>57,859                </td><td>79,056                </td><td>9,913                 </td><td>486,734               </td><td>69.8%                 </td><td>11.9%                 </td><td>16.2%                 </td><td>2%                    </td></tr>\n",
       "\t<tr><th scope=row>48</th><td>06/30/2017 12:00:00 AM</td><td>2016-17               </td><td>219,727               </td><td>212,607               </td><td>51,240                </td><td>8,030                 </td><td>491,604               </td><td>45%                   </td><td>43%                   </td><td>10%                   </td><td>2%                    </td></tr>\n",
       "</tbody>\n",
       "</table>\n"
      ],
      "text/latex": [
       "\\begin{tabular}{r|lllllllllll}\n",
       "  & Date & Year & MWD & Aqueduct & GroundWater & RecycledWater & TotalSupply & MWD\\_Per & Aqueduct\\_Per & Ground\\_Per & Recycled\\_Per\\\\\n",
       "\\hline\n",
       "\t42 & 06/30/2012 12:00:00 AM & 2011-12                & 209,746                & 266,634                & 61,060                 & 6,850                  & 544,290                & 38.5\\%                & 49\\%                  & 11.2\\%                & 1.3\\%                \\\\\n",
       "\t43 & 06/30/2013 12:00:00 AM & 2012-13                & 388,402                & 113,411                & 57,246                 & 7,513                  & 566,572                & 68.6\\%                & 20\\%                  & 10.1\\%                & 1.3\\%                \\\\\n",
       "\t46 & 06/30/2014 12:00:00 AM & 2013-14                & 441,871                & 61,024                 & 79,403                 & 10,054                 & 592,352                & 75\\%                  & 10\\%                  & 13\\%                  & 2\\%                  \\\\\n",
       "\t44 & 06/30/2015 12:00:00 AM & 2014-15                & 362,607                & 57,535                 & 90,438                 & 10,421                 & 521,001                & 69.6\\%                & 11\\%                  & 17.4\\%                & 2\\%                  \\\\\n",
       "\t45 & 06/30/2016 12:00:00 AM & 2015-16                & 339,906                & 57,859                 & 79,056                 & 9,913                  & 486,734                & 69.8\\%                & 11.9\\%                & 16.2\\%                & 2\\%                  \\\\\n",
       "\t48 & 06/30/2017 12:00:00 AM & 2016-17                & 219,727                & 212,607                & 51,240                 & 8,030                  & 491,604                & 45\\%                  & 43\\%                  & 10\\%                  & 2\\%                  \\\\\n",
       "\\end{tabular}\n"
      ],
      "text/markdown": [
       "\n",
       "| <!--/--> | Date | Year | MWD | Aqueduct | GroundWater | RecycledWater | TotalSupply | MWD_Per | Aqueduct_Per | Ground_Per | Recycled_Per | \n",
       "|---|---|---|---|---|---|\n",
       "| 42 | 06/30/2012 12:00:00 AM | 2011-12                | 209,746                | 266,634                | 61,060                 | 6,850                  | 544,290                | 38.5%                  | 49%                    | 11.2%                  | 1.3%                   | \n",
       "| 43 | 06/30/2013 12:00:00 AM | 2012-13                | 388,402                | 113,411                | 57,246                 | 7,513                  | 566,572                | 68.6%                  | 20%                    | 10.1%                  | 1.3%                   | \n",
       "| 46 | 06/30/2014 12:00:00 AM | 2013-14                | 441,871                | 61,024                 | 79,403                 | 10,054                 | 592,352                | 75%                    | 10%                    | 13%                    | 2%                     | \n",
       "| 44 | 06/30/2015 12:00:00 AM | 2014-15                | 362,607                | 57,535                 | 90,438                 | 10,421                 | 521,001                | 69.6%                  | 11%                    | 17.4%                  | 2%                     | \n",
       "| 45 | 06/30/2016 12:00:00 AM | 2015-16                | 339,906                | 57,859                 | 79,056                 | 9,913                  | 486,734                | 69.8%                  | 11.9%                  | 16.2%                  | 2%                     | \n",
       "| 48 | 06/30/2017 12:00:00 AM | 2016-17                | 219,727                | 212,607                | 51,240                 | 8,030                  | 491,604                | 45%                    | 43%                    | 10%                    | 2%                     | \n",
       "\n",
       "\n"
      ],
      "text/plain": [
       "   Date                   Year    MWD     Aqueduct GroundWater RecycledWater\n",
       "42 06/30/2012 12:00:00 AM 2011-12 209,746 266,634  61,060      6,850        \n",
       "43 06/30/2013 12:00:00 AM 2012-13 388,402 113,411  57,246      7,513        \n",
       "46 06/30/2014 12:00:00 AM 2013-14 441,871 61,024   79,403      10,054       \n",
       "44 06/30/2015 12:00:00 AM 2014-15 362,607 57,535   90,438      10,421       \n",
       "45 06/30/2016 12:00:00 AM 2015-16 339,906 57,859   79,056      9,913        \n",
       "48 06/30/2017 12:00:00 AM 2016-17 219,727 212,607  51,240      8,030        \n",
       "   TotalSupply MWD_Per Aqueduct_Per Ground_Per Recycled_Per\n",
       "42 544,290     38.5%   49%          11.2%      1.3%        \n",
       "43 566,572     68.6%   20%          10.1%      1.3%        \n",
       "46 592,352     75%     10%          13%        2%          \n",
       "44 521,001     69.6%   11%          17.4%      2%          \n",
       "45 486,734     69.8%   11.9%        16.2%      2%          \n",
       "48 491,604     45%     43%          10%        2%          "
      ]
     },
     "metadata": {},
     "output_type": "display_data"
    }
   ],
   "source": [
    "#Sorting supply dataset by Year\n",
    "supply <- supply[order(supply$Year),]\n",
    "tail(supply)"
   ]
  },
  {
   "cell_type": "code",
   "execution_count": 15,
   "metadata": {},
   "outputs": [],
   "source": [
    "#Data ceaning\n",
    "supply$Date <- NULL\n",
    "\n",
    "supply$MWD <- gsub(\",\",\"\",supply$MWD)\n",
    "supply$MWD <- as.numeric(supply$MWD)\n",
    "supply$Aqueduct <- gsub(\",\",\"\",supply$Aqueduct)\n",
    "supply$Aqueduct <- as.numeric(supply$Aqueduct)\n",
    "supply$GroundWater <- gsub(\",\",\"\",supply$GroundWater)\n",
    "supply$GroundWater <- as.numeric(supply$GroundWater)\n",
    "supply$RecycledWater <- gsub(\",\",\"\",supply$RecycledWater)\n",
    "supply$RecycledWater <- as.numeric(supply$RecycledWater)\n",
    "supply$TotalSupply <- gsub(\",\",\"\",supply$TotalSupply)\n",
    "supply$TotalSupply <- as.numeric(supply$TotalSupply)\n",
    "\n",
    "supply$MWD_Per <- gsub(\"%\",\"\",supply$MWD_Per)\n",
    "supply$MWD_Per <- as.numeric(supply$MWD_Per)\n",
    "supply$Aqueduct_Per <- gsub(\"%\",\"\",supply$Aqueduct_Per)\n",
    "supply$Aqueduct_Per <- as.numeric(supply$Aqueduct_Per)\n",
    "supply$Ground_Per <- gsub(\"%\",\"\",supply$Ground_Per)\n",
    "supply$Ground_Per <- as.numeric(supply$Ground_Per)\n",
    "supply$Recycled_Per <- gsub(\"%\",\"\",supply$Recycled_Per)\n",
    "supply$Recycled_Per <- as.numeric(supply$Recycled_Per)"
   ]
  },
  {
   "cell_type": "code",
   "execution_count": 16,
   "metadata": {},
   "outputs": [
    {
     "name": "stdout",
     "output_type": "stream",
     "text": [
      "'data.frame':\t48 obs. of  10 variables:\n",
      " $ Year         : Factor w/ 48 levels \"1969-70\",\"1970-71\",..: 1 2 3 4 5 6 7 8 9 10 ...\n",
      " $ MWD          : num  146981 52194 59852 32766 25525 ...\n",
      " $ Aqueduct     : num  355422 454160 469185 458726 460942 ...\n",
      " $ GroundWater  : num  83627 73847 75033 79726 76517 ...\n",
      " $ RecycledWater: num  0 0 0 0 0 0 0 0 0 0 ...\n",
      " $ TotalSupply  : num  586030 580201 604070 571218 562984 ...\n",
      " $ MWD_Per      : num  25.1 9 9.9 5.7 4.5 5.7 4.1 18.9 9.2 3.2 ...\n",
      " $ Aqueduct_Per : num  60.6 78.3 77.7 80.3 81.9 80.9 76.8 58 72.3 85.3 ...\n",
      " $ Ground_Per   : num  14.3 12.7 12.4 14 13.6 13.4 19.1 23 18.5 11.6 ...\n",
      " $ Recycled_Per : num  0 0 0 0 0 0 0 0 0 0 ...\n"
     ]
    },
    {
     "data": {
      "text/plain": [
       "      Year         MWD            Aqueduct       GroundWater    \n",
       " 1969-70: 1   Min.   : 18661   Min.   : 57535   Min.   : 30453  \n",
       " 1970-71: 1   1st Qu.: 50726   1st Qu.:213152   1st Qu.: 72756  \n",
       " 1971-72: 1   Median :181503   Median :330279   Median : 85981  \n",
       " 1972-73: 1   Mean   :192012   Mean   :325971   Mean   : 87147  \n",
       " 1973-74: 1   3rd Qu.:336161   3rd Qu.:462280   3rd Qu.: 99693  \n",
       " 1974-75: 1   Max.   :441871   Max.   :531729   Max.   :136376  \n",
       " (Other):42                                                     \n",
       " RecycledWater      TotalSupply        MWD_Per       Aqueduct_Per  \n",
       " Min.   :    0.0   Min.   :486734   Min.   : 3.20   Min.   :10.00  \n",
       " 1st Qu.:    0.0   1st Qu.:573563   1st Qu.: 9.15   1st Qu.:35.45  \n",
       " Median :  746.5   Median :608390   Median :32.25   Median :57.95  \n",
       " Mean   : 2225.1   Mean   :607354   Mean   :31.78   Mean   :53.51  \n",
       " 3rd Qu.: 2060.2   3rd Qu.:650690   3rd Qu.:51.92   3rd Qu.:76.28  \n",
       " Max.   :10421.0   Max.   :703189   Max.   :75.00   Max.   :85.30  \n",
       "                                                                   \n",
       "   Ground_Per     Recycled_Per   \n",
       " Min.   : 5.10   Min.   :0.0000  \n",
       " 1st Qu.:11.75   1st Qu.:0.0000  \n",
       " Median :13.90   Median :0.1000  \n",
       " Mean   :14.30   Mean   :0.4021  \n",
       " 3rd Qu.:17.18   3rd Qu.:0.3000  \n",
       " Max.   :23.00   Max.   :2.0000  \n",
       "                                 "
      ]
     },
     "metadata": {},
     "output_type": "display_data"
    }
   ],
   "source": [
    "str(supply)\n",
    "summary(supply)"
   ]
  },
  {
   "cell_type": "code",
   "execution_count": 17,
   "metadata": {},
   "outputs": [
    {
     "name": "stderr",
     "output_type": "stream",
     "text": [
      "Warning message:\n",
      "\"package 'plotrix' was built under R version 3.5.2\""
     ]
    }
   ],
   "source": [
    "library(plotrix)\n",
    "slices <- c(mean(supply$MWD_Per), mean(supply$Aqueduct_Per),\n",
    "            mean(supply$Ground_Per), mean(supply$Recycled_Per))\n",
    "lbls <- c('Mwd', 'LA\\n Aqueduct','Ground\\n Water', 'Recycled\\n Water')"
   ]
  },
  {
   "cell_type": "code",
   "execution_count": 18,
   "metadata": {
    "scrolled": true
   },
   "outputs": [
    {
     "name": "stderr",
     "output_type": "stream",
     "text": [
      "Warning message in plot.window(...):\n",
      "\"\"labelrad\" is not a graphical parameter\"Warning message in plot.xy(xy, type, ...):\n",
      "\"\"labelrad\" is not a graphical parameter\"Warning message in title(...):\n",
      "\"\"labelrad\" is not a graphical parameter\""
     ]
    },
    {
     "data": {
      "image/png": "[encoded data removed]",
      "text/plain": [
       "Plot with title \"Water Supply (1970 - 2017)\""
      ]
     },
     "metadata": {},
     "output_type": "display_data"
    }
   ],
   "source": [
    "pie3D(slices, labels = lbls, radius = 1, \n",
    "      labelcex=1.3, labelrad=1.4, theta=0.8,start=1.6,\n",
    "      explode = 0.3, main = 'Water Supply (1970 - 2017)')"
   ]
  },
  {
   "cell_type": "markdown",
   "metadata": {},
   "source": [
    "Since 1970, the LA Aqueduct has accounted for over 53% of the overall water supply in the Los Angeles region."
   ]
  },
  {
   "cell_type": "code",
   "execution_count": 19,
   "metadata": {},
   "outputs": [
    {
     "name": "stdout",
     "output_type": "stream",
     "text": [
      "$MWD\n",
      "[1] 31.78333\n",
      "\n",
      "$LA_Aqueduct\n",
      "[1] 53.50625\n",
      "\n",
      "$Ground_Water\n",
      "[1] 14.29583\n",
      "\n",
      "$Recycled_Water\n",
      "[1] 0.40208\n",
      "\n"
     ]
    }
   ],
   "source": [
    "Avg_list <- list('MWD' = round(mean(supply$MWD_Per),digits = 5),\n",
    "                 'LA_Aqueduct' = round(mean(supply$Aqueduct_Per),digits = 5),\n",
    "                 'Ground_Water' = round(mean(supply$Ground_Per),digits = 5),\n",
    "                 'Recycled_Water' = round(mean(supply$Recycled_Per),digits = 5))\n",
    "print(Avg_list)"
   ]
  },
  {
   "cell_type": "code",
   "execution_count": 20,
   "metadata": {
    "scrolled": false
   },
   "outputs": [
    {
     "name": "stderr",
     "output_type": "stream",
     "text": [
      "Warning message:\n",
      "\"package 'vioplot' was built under R version 3.5.2\"Loading required package: sm\n",
      "Warning message:\n",
      "\"package 'sm' was built under R version 3.5.2\"Package 'sm', version 2.2-5.6: type help(sm) for summary information\n"
     ]
    },
    {
     "data": {
      "image/png": "[encoded data removed]",
      "text/plain": [
       "Plot with title \"Violin Plots of Water Supply Avg per Year (Los Angeles)\""
      ]
     },
     "metadata": {},
     "output_type": "display_data"
    }
   ],
   "source": [
    "library(vioplot)\n",
    "x1 <- supply$MWD_Per\n",
    "x2 <- supply$Aqueduct_Per\n",
    "x3 <- supply$Ground_Per\n",
    "x4 <- supply$Recycled_Per\n",
    "vioplot(x1,x2,x3,x4,\n",
    "        names = c('Mwd','LA\\nAqueduct','Ground\\nWater','Recycled\\nWater'),\n",
    "        col = \"red\",border = \"blue\",lty=1,lwd=2)\n",
    "title(\"Violin Plots of Water Supply Avg per Year (Los Angeles)\")"
   ]
  },
  {
   "cell_type": "code",
   "execution_count": 39,
   "metadata": {
    "scrolled": true
   },
   "outputs": [
    {
     "data": {},
     "metadata": {},
     "output_type": "display_data"
    },
    {
     "data": {
      "image/png": "[encoded data removed]",
      "text/plain": [
       "plot without title"
      ]
     },
     "metadata": {},
     "output_type": "display_data"
    }
   ],
   "source": [
    "library(ggplot2)\n",
    "\n",
    "legend <- rep(c(\"MWD\",\"Aqueduct\",\"GroundWater\",\"Recycled\"))\n",
    "new_values <- as.numeric(t(supply[,2:5]))\n",
    "age <- rep(supply$Year, each = 4)\n",
    "new_data <- data.frame(legend,age,new_values)\n",
    "\n",
    "ggplot(new_data, aes(x = age, y = new_values, group = legend, fill = legend)) + \n",
    "  geom_area(position = \"fill\") +\n",
    "  xlab(\"Years\") + ylab(\"Water Supply\")"
   ]
  },
  {
   "cell_type": "markdown",
   "metadata": {},
   "source": [
    "Major droughts throughout the years since 1970 have played a significant role in the overall water supply in the LA region. It can be seen that everytime the Aqueduct begins to run dry due to droughts then the LA region must recieve more water supply from the Metropolitan Water District. Recycled water does not play a major significance in the overall water supply since in 2017 recycled water accounted for 2% of the overall wtaer supply for the LA region."
   ]
  }
 ],
 "metadata": {
  "kernelspec": {
   "display_name": "R",
   "language": "R",
   "name": "ir"
  },
  "language_info": {
   "codemirror_mode": "r",
   "file_extension": ".r",
   "mimetype": "text/x-r-source",
   "name": "R",
   "pygments_lexer": "r",
   "version": "3.5.1"
  }
 },
 "nbformat": 4,
 "nbformat_minor": 2
}
